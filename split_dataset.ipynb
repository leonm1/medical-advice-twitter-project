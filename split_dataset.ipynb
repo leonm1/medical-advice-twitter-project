{
 "cells": [
  {
   "cell_type": "code",
   "execution_count": 44,
   "metadata": {},
   "outputs": [
    {
     "name": "stdout",
     "output_type": "stream",
     "text": [
      "87\n",
      "69\n"
     ]
    }
   ],
   "source": [
    "import json\n",
    "with open('full-dataset-final.json', 'rt', encoding='utf8') as f:\n",
    "    out = [json.loads(d) for d in f]\n",
    "    filter1 = list(filter(lambda x: x[2] == 1, out))\n",
    "    filter0 = list(filter(lambda x: x[2] == 0, out))\n",
    "    \n",
    "print(len(filter1))\n",
    "print(len(filter0))"
   ]
  },
  {
   "cell_type": "code",
   "execution_count": 45,
   "metadata": {},
   "outputs": [],
   "source": [
    "import random\n",
    "random.shuffle(filter1)\n",
    "random.shuffle(filter0)\n",
    "\n",
    "test_1 = filter1[:int(len(filter1)*0.2)]\n",
    "test_0 = filter0[:int(len(filter0)*0.2)]\n",
    "\n",
    "train_1 = filter1[int(len(filter1)*0.2):]\n",
    "train_0 = filter0[int(len(filter0)*0.2):]\n",
    "\n",
    "test = test_1 + test_0\n",
    "train = train_1 + train_0\n",
    "\n",
    "random.shuffle(test)\n",
    "random.shuffle(train)"
   ]
  },
  {
   "cell_type": "code",
   "execution_count": 46,
   "metadata": {},
   "outputs": [],
   "source": [
    "with open('test_shuffled_final.json', 'wt') as f:\n",
    "    for item in test:\n",
    "        f.write(json.dumps(item) + '\\n')\n",
    "        \n",
    "with open('train_shuffled_final.json', 'wt') as f:\n",
    "    for item in train:\n",
    "        f.write(json.dumps(item) + '\\n')"
   ]
  },
  {
   "cell_type": "code",
   "execution_count": null,
   "metadata": {},
   "outputs": [],
   "source": []
  }
 ],
 "metadata": {
  "kernelspec": {
   "display_name": "Python 3",
   "language": "python",
   "name": "python3"
  },
  "language_info": {
   "codemirror_mode": {
    "name": "ipython",
    "version": 3
   },
   "file_extension": ".py",
   "mimetype": "text/x-python",
   "name": "python",
   "nbconvert_exporter": "python",
   "pygments_lexer": "ipython3",
   "version": "3.8.2"
  }
 },
 "nbformat": 4,
 "nbformat_minor": 4
}
